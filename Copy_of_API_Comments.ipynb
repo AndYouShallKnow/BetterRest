{
  "nbformat": 4,
  "nbformat_minor": 0,
  "metadata": {
    "colab": {
      "provenance": [],
      "authorship_tag": "ABX9TyPexrsMdrdmZc6BXlx5s69b",
      "include_colab_link": true
    },
    "kernelspec": {
      "name": "python3",
      "display_name": "Python 3"
    },
    "language_info": {
      "name": "python"
    }
  },
  "cells": [
    {
      "cell_type": "markdown",
      "metadata": {
        "id": "view-in-github",
        "colab_type": "text"
      },
      "source": [
        "<a href=\"https://colab.research.google.com/github/AndYouShallKnow/BetterRest/blob/main/Copy_of_API_Comments.ipynb\" target=\"_parent\"><img src=\"https://colab.research.google.com/assets/colab-badge.svg\" alt=\"Open In Colab\"/></a>"
      ]
    },
    {
      "cell_type": "code",
      "execution_count": null,
      "metadata": {
        "colab": {
          "base_uri": "https://localhost:8080/"
        },
        "id": "0mqm-dkRanOf",
        "outputId": "b6a2eba2-a897-4119-9162-ace72fbb8a7b"
      },
      "outputs": [
        {
          "output_type": "stream",
          "name": "stdout",
          "text": [
            "2024-01-17T13:30:40.791Z: Gerard White said ANOTHER test\n",
            "2024-01-17T13:30:27.080Z: Gerard White said love this!!\n"
          ]
        }
      ],
      "source": [
        "import requests\n",
        "import json\n",
        "from IPython.display import JSON\n",
        "\n",
        "url     = 'https://api.figma.com/v1/files/NdsTwAy1typJXKdTKkchWd/comments'\n",
        "headers = {'X-FIGMA-TOKEN' : 'figd_YUwePTPncmkdYheut7ndtDDSVxBT30dhqRZqAMQX'}\n",
        "res = requests.get(url, headers=headers)\n",
        "\n",
        "\n",
        "\n",
        "data = res.json()\n",
        "for i in range(0, 2):\n",
        "    print(data['comments'][i][\"created_at\"] + \": \" + data['comments'][i]['user']['handle'] + \" said \" + data['comments'][i][\"message\"])"
      ]
    },
    {
      "cell_type": "markdown",
      "source": [
        "**Hey!**"
      ],
      "metadata": {
        "id": "8FQq_MqcUFGr"
      }
    }
  ]
}